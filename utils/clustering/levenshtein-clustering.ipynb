{
  "nbformat": 4,
  "nbformat_minor": 0,
  "metadata": {
    "colab": {
      "provenance": []
    },
    "kernelspec": {
      "name": "python3",
      "display_name": "Python 3"
    },
    "language_info": {
      "name": "python"
    }
  },
  "cells": [
    {
      "cell_type": "code",
      "source": [
        "!pip3 install fuzzy-sentences-clustering"
      ],
      "metadata": {
        "id": "ptxKemSc6dpI"
      },
      "execution_count": null,
      "outputs": []
    },
    {
      "cell_type": "code",
      "execution_count": null,
      "metadata": {
        "colab": {
          "base_uri": "https://localhost:8080/"
        },
        "id": "vY2gVBMc6XNW",
        "outputId": "b734d100-3b29-4451-b3ae-69b0b2c8318d"
      },
      "outputs": [
        {
          "output_type": "stream",
          "name": "stderr",
          "text": [
            "[nltk_data] Downloading package stopwords to /root/nltk_data...\n",
            "[nltk_data]   Package stopwords is already up-to-date!\n",
            "[nltk_data] Downloading package punkt to /root/nltk_data...\n",
            "[nltk_data]   Unzipping tokenizers/punkt.zip.\n"
          ]
        },
        {
          "output_type": "execute_result",
          "data": {
            "text/plain": [
              "True"
            ]
          },
          "metadata": {},
          "execution_count": 19
        }
      ],
      "source": [
        "import pandas as pd\n",
        "from fuzzy_sentences_clustering import look_for_clusters\n",
        "import numpy as np\n",
        "import nltk\n",
        "nltk.download('stopwords')\n",
        "nltk.download('punkt')"
      ]
    },
    {
      "cell_type": "code",
      "source": [
        "!wget -O data https://www.dropbox.com/scl/fi/dcf1nop18lfq998szreft/after_inference_loop_conference-Maszyna.xlsx?rlkey=psn5jjusaj4z3usp6i06yki1u&dl=0"
      ],
      "metadata": {
        "colab": {
          "base_uri": "https://localhost:8080/"
        },
        "id": "JT4qJDv26k4e",
        "outputId": "b962cf4a-a594-42ce-9e8f-4a1760306c55"
      },
      "execution_count": null,
      "outputs": [
        {
          "output_type": "stream",
          "name": "stdout",
          "text": [
            "--2023-08-06 12:57:21--  https://www.dropbox.com/scl/fi/dcf1nop18lfq998szreft/after_inference_loop_conference-Maszyna.xlsx?rlkey=psn5jjusaj4z3usp6i06yki1u\n",
            "Resolving www.dropbox.com (www.dropbox.com)... 162.125.3.18, 2620:100:6018:18::a27d:312\n",
            "Connecting to www.dropbox.com (www.dropbox.com)|162.125.3.18|:443... connected.\n",
            "HTTP request sent, awaiting response... 302 Found\n",
            "Location: https://uc42fe8338ea0b7f7a2c79369f32.dl.dropboxusercontent.com/cd/0/get/CBSFWQCUFq9fqbvXKXGyX1E0J5Vyd2-Z51kU89KYiIcSMTVqhFIIIuPH7StWacU136HAuLAx2Kbe69B9usc9f-CpcPqDDmFVZGme0LpQ5Qqt9JOqFNwVlAWkjfc8cp9L45U0H5XppwaduiC4NLbHmQ0B/file# [following]\n",
            "--2023-08-06 12:57:21--  https://uc42fe8338ea0b7f7a2c79369f32.dl.dropboxusercontent.com/cd/0/get/CBSFWQCUFq9fqbvXKXGyX1E0J5Vyd2-Z51kU89KYiIcSMTVqhFIIIuPH7StWacU136HAuLAx2Kbe69B9usc9f-CpcPqDDmFVZGme0LpQ5Qqt9JOqFNwVlAWkjfc8cp9L45U0H5XppwaduiC4NLbHmQ0B/file\n",
            "Resolving uc42fe8338ea0b7f7a2c79369f32.dl.dropboxusercontent.com (uc42fe8338ea0b7f7a2c79369f32.dl.dropboxusercontent.com)... 162.125.3.15, 2620:100:6030:15::a27d:500f\n",
            "Connecting to uc42fe8338ea0b7f7a2c79369f32.dl.dropboxusercontent.com (uc42fe8338ea0b7f7a2c79369f32.dl.dropboxusercontent.com)|162.125.3.15|:443... connected.\n",
            "HTTP request sent, awaiting response... 200 OK\n",
            "Length: 2329265 (2.2M) [application/binary]\n",
            "Saving to: ‘data’\n",
            "\n",
            "data                100%[===================>]   2.22M  --.-KB/s    in 0.07s   \n",
            "\n",
            "2023-08-06 12:57:22 (30.2 MB/s) - ‘data’ saved [2329265/2329265]\n",
            "\n"
          ]
        }
      ]
    },
    {
      "cell_type": "code",
      "source": [
        "train_data = pd.read_excel(\"data\")"
      ],
      "metadata": {
        "id": "lq2_i68W61KU"
      },
      "execution_count": null,
      "outputs": []
    },
    {
      "cell_type": "code",
      "source": [
        "z = np.array([item for row in train_data['predicted_conferences_text'].dropna().apply(lambda x: x.split(\" ## \")).tolist() for item in row])"
      ],
      "metadata": {
        "id": "7uGvekHh6-1c"
      },
      "execution_count": null,
      "outputs": []
    },
    {
      "cell_type": "code",
      "source": [
        "result = look_for_clusters(z, similarity_threshold=60, language=\"english\")"
      ],
      "metadata": {
        "id": "WM5uB8407ja8"
      },
      "execution_count": null,
      "outputs": []
    }
  ]
}