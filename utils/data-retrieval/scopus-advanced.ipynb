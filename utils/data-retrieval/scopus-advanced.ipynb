{
 "cells": [
  {
   "cell_type": "code",
   "execution_count": 57,
   "metadata": {},
   "outputs": [],
   "source": [
    "import json\n",
    "with open(\"scopus.config\") as handle:\n",
    "    config = json.load(handle)"
   ]
  },
  {
   "cell_type": "code",
   "execution_count": 58,
   "metadata": {},
   "outputs": [],
   "source": [
    "import pandas as pd\n",
    "xls = pd.ExcelFile(\"../../data/polish-list/full-list-20230718.xlsx\")"
   ]
  },
  {
   "cell_type": "code",
   "execution_count": 59,
   "metadata": {},
   "outputs": [],
   "source": [
    "df = pd.read_excel(xls, \n",
    "                   sheet_name=config['sheet_name'], \n",
    "                   header=config['header']\n",
    "                   )"
   ]
  },
  {
   "cell_type": "markdown",
   "metadata": {},
   "source": [
    "Imported everything. Marking \"x\" in column \"703\" (ID of IT category) indicates the IT tag of object."
   ]
  },
  {
   "cell_type": "code",
   "execution_count": 60,
   "metadata": {},
   "outputs": [
    {
     "name": "stderr",
     "output_type": "stream",
     "text": [
      "/tmp/ipykernel_28070/844489044.py:1: UserWarning: Boolean Series key will be reindexed to match DataFrame index.\n",
      "  refined = df[df[config['category']] == 'x'][df['Punkty'] > config['points_treshold']]\n"
     ]
    }
   ],
   "source": [
    "refined = df[df[config['category']] == 'x'][df['Punkty'] > config['points_treshold']]\n",
    "search_list = pd.concat([refined[e] for e in config['extract']]).dropna().unique()\n",
    "assert len(search_list) == len(refined)"
   ]
  },
  {
   "cell_type": "code",
   "execution_count": 61,
   "metadata": {},
   "outputs": [],
   "source": [
    "def make_query(elements, keyword, conjugator):\n",
    "    answer = keyword + \"(\"\n",
    "    for e in elements:\n",
    "        answer += f\"{e} {conjugator} \"\n",
    "    answer = answer[:-(len(conjugator) + 1)]\n",
    "    answer += \")\"\n",
    "    return answer"
   ]
  },
  {
   "cell_type": "code",
   "execution_count": 62,
   "metadata": {},
   "outputs": [],
   "source": [
    "with open('scopus.answer', \"w\") as handle:\n",
    "    handle.write(make_query(search_list, config['keyword'], config['conjugator']))"
   ]
  },
  {
   "cell_type": "code",
   "execution_count": 64,
   "metadata": {},
   "outputs": [
    {
     "name": "stderr",
     "output_type": "stream",
     "text": [
      "/home/richard/.local/lib/python3.8/site-packages/urllib3/poolmanager.py:315: DeprecationWarning: The 'strict' parameter is no longer needed on Python 3+. This will raise an error in urllib3 v2.1.0.\n",
      "  warnings.warn(\n"
     ]
    }
   ],
   "source": [
    "from pybliometrics.scopus import ScopusSearch\n",
    "lt = []\n",
    "for x in search_list:\n",
    "    q = make_query([x], config['keyword'], config['conjugator'])\n",
    "    try:\n",
    "        s = ScopusSearch(q,view =\"STANDARD\", download=False, subscriber=False, verbose=False)\n",
    "        lt.append(s.get_results_size())\n",
    "    except Exception as e:\n",
    "        e = str(e)\n",
    "        lt.append(int(e.split(\" \")[1].replace(',', '')))"
   ]
  },
  {
   "cell_type": "code",
   "execution_count": 71,
   "metadata": {},
   "outputs": [],
   "source": [
    "def write_output(search_list, config, out_file):\n",
    "    with open(out_file, \"a\") as handle:\n",
    "        handle.write(make_query(search_list, config['keyword'], config['conjugator']))\n",
    "        handle.write('\\n')\n",
    "    return"
   ]
  },
  {
   "cell_type": "code",
   "execution_count": 73,
   "metadata": {},
   "outputs": [
    {
     "name": "stdout",
     "output_type": "stream",
     "text": [
      "0018-926X :   23963\n",
      "0305-1048 :   49176\n"
     ]
    }
   ],
   "source": [
    "x = []\n",
    "obj = 0\n",
    "for s, l in zip(search_list, lt):\n",
    "    if obj + l < 20000:\n",
    "        x.append(s)\n",
    "        obj += l\n",
    "    elif l > 20000:\n",
    "        print(s, \":  \", l)\n",
    "    else:\n",
    "        write_output(x, config, 'scopus.queries')\n",
    "        x = [s]\n",
    "        obj = l\n",
    "write_output(x, config, 'scopus.queries')"
   ]
  },
  {
   "cell_type": "code",
   "execution_count": 15,
   "metadata": {},
   "outputs": [],
   "source": [
    "len(s.results)\n",
    "df = pd.DataFrame(s.results)"
   ]
  },
  {
   "cell_type": "code",
   "execution_count": 21,
   "metadata": {},
   "outputs": [
    {
     "data": {
      "text/plain": [
       "Index(['eid', 'doi', 'pii', 'pubmed_id', 'title', 'subtype',\n",
       "       'subtypeDescription', 'creator', 'afid', 'affilname',\n",
       "       'affiliation_city', 'affiliation_country', 'author_count',\n",
       "       'author_names', 'author_ids', 'author_afids', 'coverDate',\n",
       "       'coverDisplayDate', 'publicationName', 'issn', 'source_id', 'eIssn',\n",
       "       'aggregationType', 'volume', 'issueIdentifier', 'article_number',\n",
       "       'pageRange', 'description', 'authkeywords', 'citedby_count',\n",
       "       'openaccess', 'freetoread', 'freetoreadLabel', 'fund_acr', 'fund_no',\n",
       "       'fund_sponsor'],\n",
       "      dtype='object')"
      ]
     },
     "execution_count": 21,
     "metadata": {},
     "output_type": "execute_result"
    }
   ],
   "source": [
    "df.columns"
   ]
  },
  {
   "cell_type": "code",
   "execution_count": 29,
   "metadata": {},
   "outputs": [
    {
     "data": {
      "text/html": [
       "<div>\n",
       "<style scoped>\n",
       "    .dataframe tbody tr th:only-of-type {\n",
       "        vertical-align: middle;\n",
       "    }\n",
       "\n",
       "    .dataframe tbody tr th {\n",
       "        vertical-align: top;\n",
       "    }\n",
       "\n",
       "    .dataframe thead th {\n",
       "        text-align: right;\n",
       "    }\n",
       "</style>\n",
       "<table border=\"1\" class=\"dataframe\">\n",
       "  <thead>\n",
       "    <tr style=\"text-align: right;\">\n",
       "      <th></th>\n",
       "      <th>fund_acr</th>\n",
       "      <th>fund_no</th>\n",
       "      <th>fund_sponsor</th>\n",
       "    </tr>\n",
       "  </thead>\n",
       "  <tbody>\n",
       "  </tbody>\n",
       "</table>\n",
       "</div>"
      ],
      "text/plain": [
       "Empty DataFrame\n",
       "Columns: [fund_acr, fund_no, fund_sponsor]\n",
       "Index: []"
      ]
     },
     "execution_count": 29,
     "metadata": {},
     "output_type": "execute_result"
    }
   ],
   "source": [
    "df[['fund_acr', 'fund_no', 'fund_sponsor']].dropna()"
   ]
  }
 ],
 "metadata": {
  "kernelspec": {
   "display_name": "Python 3",
   "language": "python",
   "name": "python3"
  },
  "language_info": {
   "codemirror_mode": {
    "name": "ipython",
    "version": 3
   },
   "file_extension": ".py",
   "mimetype": "text/x-python",
   "name": "python",
   "nbconvert_exporter": "python",
   "pygments_lexer": "ipython3",
   "version": "3.8.5"
  },
  "orig_nbformat": 4
 },
 "nbformat": 4,
 "nbformat_minor": 2
}
