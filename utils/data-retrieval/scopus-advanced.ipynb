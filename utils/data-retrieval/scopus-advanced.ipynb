{
 "cells": [
  {
   "cell_type": "code",
   "execution_count": 72,
   "metadata": {},
   "outputs": [],
   "source": [
    "import json\n",
    "with open(\"scopus.config\") as handle:\n",
    "    config = json.load(handle)"
   ]
  },
  {
   "cell_type": "code",
   "execution_count": 35,
   "metadata": {},
   "outputs": [],
   "source": [
    "import pandas as pd\n",
    "xls = pd.ExcelFile(config['file'])"
   ]
  },
  {
   "cell_type": "code",
   "execution_count": 36,
   "metadata": {},
   "outputs": [],
   "source": [
    "df = pd.read_excel(xls, \n",
    "                   sheet_name=config['sheet_name'], \n",
    "                   header=config['header']\n",
    "                   )"
   ]
  },
  {
   "cell_type": "markdown",
   "metadata": {},
   "source": [
    "Imported everything. Marking \"x\" in column \"703\" (ID of IT category) indicates the IT tag of object."
   ]
  },
  {
   "cell_type": "code",
   "execution_count": 37,
   "metadata": {},
   "outputs": [
    {
     "name": "stderr",
     "output_type": "stream",
     "text": [
      "/tmp/ipykernel_10591/2874088279.py:1: UserWarning: Boolean Series key will be reindexed to match DataFrame index.\n",
      "  refined = df[df[config['category']] == 'x'][df['Punkty'] > config['points_treshold']]\n"
     ]
    }
   ],
   "source": [
    "refined = df[df[config['category']] == 'x'][df['Punkty'] > config['points_treshold']]\n",
    "search_list = pd.concat([refined[e] for e in config['extract']]).dropna().unique()\n",
    "assert len(search_list) == len(refined)"
   ]
  },
  {
   "cell_type": "code",
   "execution_count": 76,
   "metadata": {},
   "outputs": [],
   "source": [
    "def make_query(elements, keyword, conjugator):\n",
    "    answer = keyword + \"(\"\n",
    "    for e in elements:\n",
    "        answer += f\"{e} {conjugator} \"\n",
    "    answer = answer[:-(len(conjugator) + 1)]\n",
    "    answer += \")\"\n",
    "    return answer"
   ]
  },
  {
   "cell_type": "code",
   "execution_count": 77,
   "metadata": {},
   "outputs": [],
   "source": [
    "with open('scopus.answer', \"w\") as handle:\n",
    "    handle.write(make_query(search_list, config['keyword'], config['conjugator']))"
   ]
  }
 ],
 "metadata": {
  "kernelspec": {
   "display_name": "Python 3",
   "language": "python",
   "name": "python3"
  },
  "language_info": {
   "codemirror_mode": {
    "name": "ipython",
    "version": 3
   },
   "file_extension": ".py",
   "mimetype": "text/x-python",
   "name": "python",
   "nbconvert_exporter": "python",
   "pygments_lexer": "ipython3",
   "version": "3.8.5"
  },
  "orig_nbformat": 4
 },
 "nbformat": 4,
 "nbformat_minor": 2
}
